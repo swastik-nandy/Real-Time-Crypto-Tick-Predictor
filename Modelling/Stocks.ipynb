{
  "nbformat": 4,
  "nbformat_minor": 0,
  "metadata": {
    "colab": {
      "provenance": []
    },
    "kernelspec": {
      "name": "python3",
      "display_name": "Python 3"
    },
    "language_info": {
      "name": "python"
    }
  },
  "cells": [
    {
      "cell_type": "code",
      "execution_count": 1,
      "metadata": {
        "colab": {
          "base_uri": "https://localhost:8080/"
        },
        "id": "E5CHsFrKPJBL",
        "outputId": "135099dd-96d5-45df-eec8-edf212a957b4"
      },
      "outputs": [
        {
          "output_type": "stream",
          "name": "stdout",
          "text": [
            "<class 'pandas.core.frame.DataFrame'>\n",
            "RangeIndex: 135786 entries, 0 to 135785\n",
            "Data columns (total 4 columns):\n",
            " #   Column            Non-Null Count   Dtype  \n",
            "---  ------            --------------   -----  \n",
            " 0   id                135786 non-null  int64  \n",
            " 1   stock_id          135786 non-null  int64  \n",
            " 2   price             135786 non-null  float64\n",
            " 3   trade_time_stamp  135786 non-null  object \n",
            "dtypes: float64(1), int64(2), object(1)\n",
            "memory usage: 4.1+ MB\n",
            "135786\n"
          ]
        }
      ],
      "source": [
        "import pandas as pd\n",
        "\n",
        "df = pd.read_csv(\"stock_price_history.csv\")\n",
        "df.head()\n",
        "df.info()\n",
        "df.head()\n",
        "\n",
        "print (len(df))"
      ]
    },
    {
      "cell_type": "code",
      "source": [],
      "metadata": {
        "id": "sg48qOy-QPDj"
      },
      "execution_count": 1,
      "outputs": []
    },
    {
      "cell_type": "code",
      "source": [
        "# Data Cleanup\n",
        "\n",
        "import pandas as pd\n",
        "\n",
        "# Load CSV\n",
        "df = pd.read_csv(\"stock_price_history.csv\")\n",
        "\n",
        "# Clean & preprocess\n",
        "df['trade_time_stamp'] = pd.to_datetime(df['trade_time_stamp'], errors='coerce')\n",
        "\n",
        "# Drop rows with invalid timestamps or missing prices\n",
        "df.dropna(subset=['trade_time_stamp', 'price'], inplace=True)\n",
        "\n",
        "# Drop duplicates\n",
        "df.drop_duplicates(inplace=True)\n",
        "\n",
        "# Filter out invalid price entries (<= 0)\n",
        "df = df[df['price'] > 0]\n",
        "\n",
        "# Optional: remove rows with absurd jumps (optional for smoothing)\n",
        "df.sort_values(by=['stock_id', 'trade_time_stamp'], inplace=True)\n",
        "df['pct_change'] = df.groupby('stock_id')['price'].pct_change()\n",
        "df = df[df['pct_change'].abs() < 0.5]  # Remove sudden 50%+ spikes\n",
        "df.drop(columns='pct_change', inplace=True)\n",
        "\n",
        "# Final sort & reset index\n",
        "df.reset_index(drop=True, inplace=True)\n",
        "\n",
        "# Show result\n",
        "df.head()\n",
        "\n",
        "print(f\"✅ Rows remaining after cleanup: {len(df)}\")\n"
      ],
      "metadata": {
        "colab": {
          "base_uri": "https://localhost:8080/"
        },
        "id": "0HFzR4hzQ1_9",
        "outputId": "dcdca299-942a-4c1b-8f0e-1a6b65056967"
      },
      "execution_count": 2,
      "outputs": [
        {
          "output_type": "stream",
          "name": "stdout",
          "text": [
            "✅ Rows remaining after cleanup: 135767\n"
          ]
        }
      ]
    },
    {
      "cell_type": "code",
      "source": [
        "import numpy as np\n",
        "import pandas as pd\n",
        "\n",
        "# Hyperparameters\n",
        "WINDOW_SIZE = 60       # Last 10 minutes\n",
        "LOOKAHEAD = 6          # Predict 1 minute ahead\n",
        "THRESHOLD = 0.001      # 0.1% price movement\n",
        "\n",
        "# Containers\n",
        "X = []\n",
        "y = []\n",
        "meta = []\n",
        "\n",
        "# Labeling function (binary only)\n",
        "def get_label(curr_price, future_price, threshold):\n",
        "    change = (future_price - curr_price) / curr_price\n",
        "    if change > threshold:\n",
        "        return 1  # UP\n",
        "    elif change < -threshold:\n",
        "        return 0  # DOWN\n",
        "    else:\n",
        "        return None  # Skip NEUTRAL\n",
        "\n",
        "# Apply sliding window per stock\n",
        "for stock_id, group in df.groupby('stock_id'):\n",
        "    prices = group['price'].values\n",
        "    timestamps = group['trade_time_stamp'].values\n",
        "\n",
        "    for i in range(WINDOW_SIZE, len(prices) - LOOKAHEAD):\n",
        "        window = prices[i - WINDOW_SIZE:i]\n",
        "        current_price = prices[i - 1]\n",
        "        future_price = prices[i + LOOKAHEAD - 1]\n",
        "\n",
        "        label = get_label(current_price, future_price, THRESHOLD)\n",
        "        if label is None:\n",
        "            continue  # Skip neutral cases\n",
        "\n",
        "        X.append(window)\n",
        "        y.append(label)\n",
        "        meta.append({\n",
        "            'stock_id': stock_id,\n",
        "            'predict_time': timestamps[i + LOOKAHEAD - 1]\n",
        "        })\n",
        "\n",
        "# Convert to arrays\n",
        "X = np.array(X)\n",
        "y = np.array(y)\n",
        "meta_df = pd.DataFrame(meta)\n",
        "\n",
        "# Print class distribution\n",
        "classes, counts = np.unique(y, return_counts=True)\n",
        "class_map = {0: \"DOWN\", 1: \"UP\"}\n",
        "print(\"✅ Binary Class distribution (NEUTRAL dropped):\")\n",
        "for c, cnt in zip(classes, counts):\n",
        "    print(f\"{class_map[c]}: {cnt} samples\")\n",
        "\n",
        "print(f\"✅ Feature shape: X = {X.shape}, y = {y.shape}\")\n"
      ],
      "metadata": {
        "id": "87jsVVCyR2m1",
        "colab": {
          "base_uri": "https://localhost:8080/"
        },
        "outputId": "47bea371-b758-45b7-a75c-7e361d1c53ad"
      },
      "execution_count": 3,
      "outputs": [
        {
          "output_type": "stream",
          "name": "stdout",
          "text": [
            "✅ Binary Class distribution (NEUTRAL dropped):\n",
            "DOWN: 26725 samples\n",
            "UP: 24609 samples\n",
            "✅ Feature shape: X = (51334, 60), y = (51334,)\n"
          ]
        }
      ]
    },
    {
      "cell_type": "code",
      "source": [
        "import xgboost as xgb\n",
        "from sklearn.model_selection import train_test_split\n",
        "from sklearn.metrics import classification_report, confusion_matrix\n",
        "import matplotlib.pyplot as plt\n",
        "import seaborn as sns\n",
        "\n",
        "# Flatten for XGBoost\n",
        "X_flat = X.reshape(X.shape[0], X.shape[1])\n",
        "\n",
        "# Split dataset\n",
        "X_train, X_test, y_train, y_test = train_test_split(\n",
        "    X_flat, y, test_size=0.2, random_state=42, stratify=y\n",
        ")\n",
        "\n",
        "# Define model\n",
        "model = xgb.XGBClassifier(\n",
        "    objective=\"binary:logistic\",\n",
        "    eval_metric=\"logloss\",\n",
        "    max_depth=6,\n",
        "    learning_rate=0.1,\n",
        "    n_estimators=100,\n",
        "    subsample=0.8,\n",
        "    colsample_bytree=0.8,\n",
        "    use_label_encoder=False,\n",
        "    random_state=42\n",
        ")\n",
        "\n",
        "# Train model\n",
        "model.fit(X_train, y_train)\n",
        "\n",
        "# Predict\n",
        "y_pred = model.predict(X_test)\n",
        "\n",
        "# Evaluation\n",
        "print(\"✅ Binary Classification Report:\")\n",
        "print(classification_report(y_test, y_pred, target_names=[\"DOWN\", \"UP\"]))\n",
        "\n",
        "# Confusion Matrix\n",
        "cm = confusion_matrix(y_test, y_pred)\n",
        "sns.heatmap(cm, annot=True, fmt=\"d\", cmap=\"Greens\", xticklabels=[\"DOWN\", \"UP\"], yticklabels=[\"DOWN\", \"UP\"])\n",
        "plt.title(\"Binary XGBoost Confusion Matrix\")\n",
        "plt.xlabel(\"Predicted\")\n",
        "plt.ylabel(\"True\")\n",
        "plt.show()\n"
      ],
      "metadata": {
        "colab": {
          "base_uri": "https://localhost:8080/",
          "height": 715
        },
        "id": "fStLn-S3mCuQ",
        "outputId": "af9aae40-cab6-4c4f-f327-ff425e14c474"
      },
      "execution_count": 4,
      "outputs": [
        {
          "output_type": "stream",
          "name": "stderr",
          "text": [
            "/usr/local/lib/python3.11/dist-packages/xgboost/training.py:183: UserWarning: [13:58:16] WARNING: /workspace/src/learner.cc:738: \n",
            "Parameters: { \"use_label_encoder\" } are not used.\n",
            "\n",
            "  bst.update(dtrain, iteration=i, fobj=obj)\n"
          ]
        },
        {
          "output_type": "stream",
          "name": "stdout",
          "text": [
            "✅ Binary Classification Report:\n",
            "              precision    recall  f1-score   support\n",
            "\n",
            "        DOWN       0.60      0.80      0.69      5345\n",
            "          UP       0.66      0.42      0.51      4922\n",
            "\n",
            "    accuracy                           0.62     10267\n",
            "   macro avg       0.63      0.61      0.60     10267\n",
            "weighted avg       0.63      0.62      0.60     10267\n",
            "\n"
          ]
        },
        {
          "output_type": "display_data",
          "data": {
            "text/plain": [
              "<Figure size 640x480 with 2 Axes>"
            ],
            "image/png": "[encoded data removed]"
          },
          "metadata": {}
        }
      ]
    },
    {
      "cell_type": "code",
      "source": [
        "model.save_model(\"price_model_xgb_binary.json\")\n"
      ],
      "metadata": {
        "id": "By5xwG1moE1l"
      },
      "execution_count": 39,
      "outputs": []
    }
  ]
}